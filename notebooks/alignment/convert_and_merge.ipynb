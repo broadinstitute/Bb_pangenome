{
 "cells": [
  {
   "cell_type": "code",
   "execution_count": null,
   "id": "c728bd67-8e38-4308-86ac-39c1c1fc97a7",
   "metadata": {},
   "outputs": [],
   "source": [
    "import os\n",
    "import pathlib\n",
    "from Bio import SeqIO\n",
    "from tqdm.notebook import tqdm"
   ]
  },
  {
   "cell_type": "code",
   "execution_count": null,
   "id": "172410d6-cac9-4d4b-a2c2-2485cd9f4a03",
   "metadata": {},
   "outputs": [],
   "source": [
    "def many_gbk_to_single_mfa(list_of_filepaths, output_file, *args, **kwargs):\n",
    "    num_recs = 0\n",
    "    all_records = []\n",
    "    for file in tqdm(list_of_filepaths):\n",
    "        record = SeqIO.parse(file, \"genbank\")\n",
    "        all_records.extend(record)\n",
    "        num_recs += 1\n",
    "    \n",
    "    #SeqIO.write(all_records, output_file, \"fasta\")\n",
    "    print(f\"{num_recs} written to multifasta:\\n{output_file}\")"
   ]
  },
  {
   "cell_type": "code",
   "execution_count": null,
   "id": "270feac5-0737-44f7-9274-55b5de63a2c0",
   "metadata": {},
   "outputs": [],
   "source": [
    "gbks_path = pathlib.Path(\"/home/mf019/longread_pangenome/expanded_dataset_analysis/assemblies/all_split_contigs_v5\")\n",
    "mfa_path = pathlib.Path(\"/home/mf019/longread_pangenome/expanded_dataset_analysis/assemblies/all_contigs_v5.fna\")\n",
    "contigs = list(gbks_path.glob(\"*.gbff\"))\n",
    "print(len(contigs))"
   ]
  },
  {
   "cell_type": "code",
   "execution_count": null,
   "id": "2cd3d44b-17ad-4c87-ad3e-54c500578fa4",
   "metadata": {},
   "outputs": [],
   "source": [
    "print(f\"Num Unique Contigs: {len(set(contigs))}\")\n",
    "many_gbk_to_single_mfa(contigs, mfa_path)"
   ]
  },
  {
   "cell_type": "code",
   "execution_count": null,
   "id": "b414717b-f273-47af-bede-d52484beda84",
   "metadata": {},
   "outputs": [],
   "source": []
  }
 ],
 "metadata": {
  "kernelspec": {
   "display_name": "Python 3 (ipykernel)",
   "language": "python",
   "name": "python3"
  },
  "language_info": {
   "codemirror_mode": {
    "name": "ipython",
    "version": 3
   },
   "file_extension": ".py",
   "mimetype": "text/x-python",
   "name": "python",
   "nbconvert_exporter": "python",
   "pygments_lexer": "ipython3",
   "version": "3.11.2"
  }
 },
 "nbformat": 4,
 "nbformat_minor": 5
}
