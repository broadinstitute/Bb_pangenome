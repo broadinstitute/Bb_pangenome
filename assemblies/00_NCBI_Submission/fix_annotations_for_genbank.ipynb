{
 "cells": [
  {
   "cell_type": "code",
   "execution_count": 31,
   "id": "b1f90a24-a482-4fa3-a3cf-791c5a3f6a19",
   "metadata": {},
   "outputs": [],
   "source": [
    "import os\n",
    "import pathlib\n",
    "import pprint\n",
    "from Bio import SeqIO\n",
    "import gffutils\n",
    "import pandas"
   ]
  },
  {
   "cell_type": "code",
   "execution_count": 19,
   "id": "d9e65b06-062e-4d92-be17-cd709437f65a",
   "metadata": {},
   "outputs": [],
   "source": [
    "def parse_gff3(gff_path):\n",
    "    contigs = set()\n",
    "    locus_prefixes = set()\n",
    "    id_prefixes = set()\n",
    "\n",
    "    with pathlib.Path(gff_path).open() as fh:\n",
    "        for line in fh:\n",
    "            if not line.strip() or line.startswith(\"#\"):\n",
    "                continue\n",
    "\n",
    "            parts = line.rstrip(\"\\n\").split(\"\\t\")\n",
    "            if len(parts) < 9:\n",
    "                continue\n",
    "\n",
    "            seqid, feature_type, attributes = parts[0], parts[2], parts[8]\n",
    "            contigs.add(seqid)\n",
    "\n",
    "            if feature_type != \"CDS\":\n",
    "                continue\n",
    "\n",
    "            # parse attributes into a dict\n",
    "            attrs = {}\n",
    "            for kv in attributes.split(\";\"):\n",
    "                if \"=\" in kv:\n",
    "                    key, val = kv.split(\"=\", 1)\n",
    "                    attrs[key] = val\n",
    "\n",
    "            if \"locus_tag\" in attrs:\n",
    "                lt = attrs[\"locus_tag\"]\n",
    "                locus_prefixes.add(lt.split(\"_\", 1)[0])\n",
    "\n",
    "            if \"ID\" in attrs:\n",
    "                idv = attrs[\"ID\"]\n",
    "                id_prefixes.add(idv.split(\"_\", 1)[0])\n",
    "\n",
    "    return sorted(contigs), sorted(locus_prefixes), sorted(id_prefixes)\n",
    "\n"
   ]
  },
  {
   "cell_type": "code",
   "execution_count": 58,
   "id": "f36b4a6f-2df5-4942-bfe2-d8dc918b4289",
   "metadata": {},
   "outputs": [],
   "source": [
    "annotations_dir = pathlib.Path(\"fixed_annotations\")"
   ]
  },
  {
   "cell_type": "code",
   "execution_count": 59,
   "id": "dc9db306-ce56-42de-a6fa-bab635aecfe1",
   "metadata": {},
   "outputs": [],
   "source": [
    "unclean_gffs = [f for f in annotations_dir.glob(\"*.gff3\")]"
   ]
  },
  {
   "cell_type": "code",
   "execution_count": 5,
   "id": "37bf350f-0d79-4691-8d2b-ecff13a93e80",
   "metadata": {},
   "outputs": [
    {
     "data": {
      "text/plain": [
       "PosixPath('fixed_annotations/URI44H.gff3')"
      ]
     },
     "execution_count": 5,
     "metadata": {},
     "output_type": "execute_result"
    }
   ],
   "source": [
    "unclean_gffs[0]"
   ]
  },
  {
   "cell_type": "code",
   "execution_count": 36,
   "id": "d709c937-7cc4-4296-850f-7b92c70fc22c",
   "metadata": {},
   "outputs": [],
   "source": [
    "locus_tag_prefix_to_BSID = 'locus_tag_prefixes.txt'\n",
    "name_to_BSID = 'biosample_to_name.txt'\n",
    "ltp2bs_df = pandas.read_csv(locus_tag_prefix_to_BSID, sep='\\t')\n",
    "n2bs_df = pandas.read_csv(name_to_BSID, sep='\\t')"
   ]
  },
  {
   "cell_type": "code",
   "execution_count": 47,
   "id": "e29f9e86-d279-42ae-858c-8887869c1e67",
   "metadata": {},
   "outputs": [],
   "source": [
    "m_df = pandas.merge(\n",
    "    left=n2bs_df,\n",
    "    right=ltp2bs_df,\n",
    "    how='left',\n",
    "    on='BioSample'\n",
    ")"
   ]
  },
  {
   "cell_type": "code",
   "execution_count": 53,
   "id": "328a8696-f940-4e9e-bfe3-80cbe5a40377",
   "metadata": {},
   "outputs": [
    {
     "name": "stdout",
     "output_type": "stream",
     "text": [
      "[nan, nan, nan, nan, nan, 'FIT27', 'FIT28', 'FIT34', 'FIT48', 'FIS58', 'FIS68', 'FIS67', 'FIS72', 'FIS81', 'FIS78', 'FIT30', 'FIT42', nan, nan, nan, nan, nan, nan, nan, nan, nan, nan, nan, nan, nan, 'FIT14', 'FIT15', 'FIT16', 'FIT24', 'FIT32', 'FIT33', 'FIT40', 'FIT41', 'FIT44', 'FIS73', 'FIS79', 'FIS82', 'FIS59', 'FIS60', 'FIS63', 'FIS64', 'FIS69', 'FIS74', 'FIS75', 'FIS76', 'FIS87', 'FIT13', 'FIT17', 'FIT20', 'FIT22', 'FIT29', 'FIT31', nan, nan, nan, nan, nan]\n"
     ]
    }
   ],
   "source": []
  },
  {
   "cell_type": "code",
   "execution_count": 86,
   "id": "dc160bbc-713f-48b2-98b5-bbe1b3c7122b",
   "metadata": {},
   "outputs": [],
   "source": [
    "m_df = m_df.reset_index(drop=True)\n",
    "m_df.to_csv('locus_tag_to_asm_name.tsv', sep='\\t', index=False)"
   ]
  },
  {
   "cell_type": "code",
   "execution_count": 87,
   "id": "3eb3b68d-a3c4-4166-ba7c-8a5af18eaff3",
   "metadata": {},
   "outputs": [],
   "source": [
    "locus_tag_dict = {'isolate': [], 'old': [], 'new': []}\n",
    "for idx, row in m_df.iterrows():\n",
    "    locus_tag_dict['isolate'].append(row['isolate'])\n",
    "    locus_tag_dict['new'].append(row.get('LocusTagPrefix', 'NotFound'))"
   ]
  },
  {
   "cell_type": "code",
   "execution_count": 88,
   "id": "ca42d40e-3ff9-4a3f-b600-4f641228a7cf",
   "metadata": {
    "scrolled": true
   },
   "outputs": [],
   "source": [
    "for gff in unclean_gffs:\n",
    "    contigs, locus_pref, id_pref = parse_gff3(gff)\n",
    "    old_prefix = list(set(locus_pref))[0]\n",
    "    locus_tag_dict['old'].append(old_prefix)"
   ]
  },
  {
   "cell_type": "code",
   "execution_count": 89,
   "id": "07812c63-8b6b-4fc7-b24f-948935a1d853",
   "metadata": {},
   "outputs": [],
   "source": [
    "lt_df = pandas.DataFrame(locus_tag_dict)"
   ]
  },
  {
   "cell_type": "code",
   "execution_count": 90,
   "id": "2360e920-5b46-445a-b22e-45765b34ca32",
   "metadata": {},
   "outputs": [],
   "source": [
    "lt_df = lt_df.reset_index(drop=True)"
   ]
  },
  {
   "cell_type": "code",
   "execution_count": 91,
   "id": "cb3ebe12-b1ed-40dd-a70e-5dbc0ad972f0",
   "metadata": {},
   "outputs": [],
   "source": [
    "lt_df.to_csv('locus_tag_map.tsv', sep='\\t', index=False)"
   ]
  },
  {
   "cell_type": "code",
   "execution_count": null,
   "id": "91351994-9001-43fd-872a-2404d19564df",
   "metadata": {},
   "outputs": [],
   "source": []
  },
  {
   "cell_type": "code",
   "execution_count": null,
   "id": "a069aed0-c971-443b-855d-506b1b7df450",
   "metadata": {},
   "outputs": [],
   "source": []
  }
 ],
 "metadata": {
  "kernelspec": {
   "display_name": "Python 3 (ipykernel)",
   "language": "python",
   "name": "python3"
  },
  "language_info": {
   "codemirror_mode": {
    "name": "ipython",
    "version": 3
   },
   "file_extension": ".py",
   "mimetype": "text/x-python",
   "name": "python",
   "nbconvert_exporter": "python",
   "pygments_lexer": "ipython3",
   "version": "3.11.2"
  }
 },
 "nbformat": 4,
 "nbformat_minor": 5
}
